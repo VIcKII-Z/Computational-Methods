{
 "cells": [
  {
   "cell_type": "code",
   "execution_count": 1,
   "id": "2f0e49f7",
   "metadata": {},
   "outputs": [],
   "source": [
    "class Tree:\n",
    "    def __init__(self, value=None):\n",
    "        self.value = value\n",
    "        self.left = None\n",
    "        self.right = None\n",
    "        self.size = 1 if value != None else 0\n",
    "\n",
    "    def __contains__(self, item):\n",
    "        if self.value == item:\n",
    "                return True\n",
    "        elif self.left and item < self.value:\n",
    "                return item in self.left\n",
    "        elif self.right and item > self.value:\n",
    "            return item in self.right\n",
    "        else:\n",
    "            return False\n",
    "    \n",
    "    def add(self, item):\n",
    "        if not self.size:\n",
    "            self.value = item\n",
    "        else:\n",
    "            self._add(item, self)\n",
    "        self.size += 1\n",
    "\n",
    "    def _add(self, val, current):\n",
    "        if val < current.value:\n",
    "            if current.left:\n",
    "                self._add(val, current.left)\n",
    "            else:\n",
    "                current.left = Tree(val)\n",
    "        else:\n",
    "            if current.right:\n",
    "                self._add(val, current.right)\n",
    "            else:\n",
    "                current.right = Tree(val)\n",
    "    \n",
    "    def printTree(self):\n",
    "        # print inorder\n",
    "        if not self.size:\n",
    "            return []\n",
    "        if self.left:\n",
    "            self.left.printTree() \n",
    "        print(self.value)\n",
    "        if self.right:\n",
    "            self.right.printTree()"
   ]
  },
  {
   "cell_type": "code",
   "execution_count": 3,
   "id": "db8191a1",
   "metadata": {},
   "outputs": [],
   "source": [
    "my_tree = Tree()\n",
    "for item in [55, 62, 37, 49, 71, 14, 17]:\n",
    "     my_tree.add(item)"
   ]
  },
  {
   "cell_type": "code",
   "execution_count": 5,
   "id": "b6755346",
   "metadata": {},
   "outputs": [
    {
     "name": "stdout",
     "output_type": "stream",
     "text": [
      "14\n",
      "17\n",
      "37\n",
      "49\n",
      "55\n",
      "62\n",
      "71\n"
     ]
    }
   ],
   "source": [
    "my_tree.printTree()"
   ]
  },
  {
   "cell_type": "code",
   "execution_count": 9,
   "id": "54f16a71",
   "metadata": {},
   "outputs": [
    {
     "data": {
      "text/plain": [
       "False"
      ]
     },
     "execution_count": 9,
     "metadata": {},
     "output_type": "execute_result"
    }
   ],
   "source": [
    "42 in my_tree"
   ]
  },
  {
   "cell_type": "code",
   "execution_count": 10,
   "id": "cddba4ef",
   "metadata": {},
   "outputs": [
    {
     "data": {
      "text/plain": [
       "True"
      ]
     },
     "execution_count": 10,
     "metadata": {},
     "output_type": "execute_result"
    }
   ],
   "source": [
    "71 in my_tree"
   ]
  },
  {
   "cell_type": "code",
   "execution_count": 27,
   "id": "cd54cb1e",
   "metadata": {},
   "outputs": [
    {
     "name": "stderr",
     "output_type": "stream",
     "text": [
      "100%|██████████| 400/400 [00:05<00:00, 76.55it/s]  \n"
     ]
    }
   ],
   "source": [
    "import random\n",
    "\n",
    "k = [i/100 for i in n]\n",
    "ns = [round(10**(i/100)) for i in range(400)] \n",
    "ts = []\n",
    "test = [random.randint(1, 50000) for i in range(100)]\n",
    "for i in tqdm(ns):\n",
    "    my_tree = Tree()\n",
    "    for j in range(i):\n",
    "        my_tree.add(random.randint(1,50000)) \n",
    "        \n",
    "    start = time.time()\n",
    "    for j in test:\n",
    "        result = j in my_tree\n",
    "    ts.append(time.time() - start)\n"
   ]
  },
  {
   "cell_type": "code",
   "execution_count": 23,
   "id": "4fb17a1b",
   "metadata": {},
   "outputs": [
    {
     "name": "stderr",
     "output_type": "stream",
     "text": [
      "  0%|          | 0/200 [00:00<?, ?it/s]/var/folders/rz/wj2pwbn164x144wk9djnk2840000gn/T/ipykernel_93919/2990920215.py:14: DeprecationWarning: This function is deprecated. Please call randint(0, 1000 + 1) instead\n",
      "100%|██████████| 200/200 [00:00<00:00, 586.34it/s] \n"
     ]
    }
   ],
   "source": [
    "from tqdm import tqdm\n",
    "import numpy as np\n",
    "import time\n",
    "ns = [round(10**(i/100)) for i in range(200)]\n",
    "ts = []\n",
    "for n in tqdm(ns):\n",
    "#     tree = Tree()\n",
    "\n",
    "    my_tree = Tree()\n",
    "    for _ in range(n):\n",
    "        my_tree.add(random.randint(1,50000))\n",
    "\n",
    "\n",
    "    nodes = np.random.random_integers(0,1000, n)\n",
    "    st_t = time.time()    \n",
    "\n",
    "\n",
    "    for _ in range(20):\n",
    "        for node in nodes:\n",
    "             node in my_tree\n",
    "            \n",
    "    ts.append(time.time()-st_t)\n",
    "#         for _ in tqdm(range(100)):\n",
    "            \n",
    "        \n",
    "        \n",
    "    "
   ]
  },
  {
   "cell_type": "code",
   "execution_count": 8,
   "id": "eb6fd891",
   "metadata": {},
   "outputs": [
    {
     "data": {
      "text/plain": [
       "[0.07019186019897461,\n",
       " 0.23284077644348145,\n",
       " 0.7276580333709717,\n",
       " 2.6727232933044434,\n",
       " 5.430010795593262,\n",
       " 32.97298002243042,\n",
       " 57.23201608657837]"
      ]
     },
     "execution_count": 8,
     "metadata": {},
     "output_type": "execute_result"
    }
   ],
   "source": [
    "ts"
   ]
  },
  {
   "cell_type": "code",
   "execution_count": 9,
   "id": "aff82bcb",
   "metadata": {},
   "outputs": [
    {
     "data": {
      "text/plain": [
       "[1000, 5000, 10000, 50000, 100000, 500000, 1000000]"
      ]
     },
     "execution_count": 9,
     "metadata": {},
     "output_type": "execute_result"
    }
   ],
   "source": [
    "ns"
   ]
  },
  {
   "cell_type": "code",
   "execution_count": 28,
   "id": "62e52054",
   "metadata": {},
   "outputs": [
    {
     "data": {
      "text/plain": [
       "<matplotlib.collections.PathCollection at 0x1461d6d60>"
      ]
     },
     "execution_count": 28,
     "metadata": {},
     "output_type": "execute_result"
    },
    {
     "data": {
      "image/png": "[encoded data removed]",
      "text/plain": [
       "<Figure size 432x288 with 1 Axes>"
      ]
     },
     "metadata": {
      "needs_background": "light"
     },
     "output_type": "display_data"
    }
   ],
   "source": [
    "import matplotlib.pyplot as plt\n",
    "import math\n",
    "plt.scatter([math.log(n) for n in ns ], ts)"
   ]
  },
  {
   "cell_type": "code",
   "execution_count": 29,
   "id": "48feacc8",
   "metadata": {},
   "outputs": [
    {
     "data": {
      "image/png": "[encoded data removed]",
      "text/plain": [
       "<Figure size 640x480 with 1 Axes>"
      ]
     },
     "metadata": {},
     "output_type": "display_data"
    },
    {
     "data": {
      "text/plain": [
       "<ggplot: (342748094)>"
      ]
     },
     "execution_count": 29,
     "metadata": {},
     "output_type": "execute_result"
    }
   ],
   "source": [
    "\n",
    "import plotnine as p9\n",
    "import pandas as pd\n",
    "\n",
    "(p9.ggplot(pd.DataFrame({'n': ns, 'time (s)': ts}), p9.aes(x='n', y='time (s)'))\n",
    "+ p9.geom_point()\n",
    " + p9.scale_y_continuous()\n",
    "+ p9.scale_x_continuous(trans='log10')\n",
    ")\n",
    "\n",
    "# (p9.ggplot(pd.DataFrame({'n': ns, 'time (s)': times2}), p9.aes(x='n', y='time (s)'))\n",
    "# + p9.geom_point()\n",
    "#  + p9.scale_x_continuous()\n",
    "# + p9.scale_y_continuous()\n",
    "# )"
   ]
  },
  {
   "cell_type": "code",
   "execution_count": 81,
   "id": "2594319e",
   "metadata": {},
   "outputs": [
    {
     "name": "stderr",
     "output_type": "stream",
     "text": [
      "  0%|          | 0/20 [00:00<?, ?it/s]/var/folders/rz/wj2pwbn164x144wk9djnk2840000gn/T/ipykernel_88590/1832919986.py:11: DeprecationWarning: This function is deprecated. Please call randint(0, 1000 + 1) instead\n",
      "100%|██████████| 20/20 [00:21<00:00,  1.09s/it]\n",
      "100%|██████████| 20/20 [00:00<00:00, 109.87it/s]\n",
      "100%|██████████| 20/20 [00:46<00:00,  2.31s/it]\n"
     ]
    }
   ],
   "source": [
    "ns = range(0,400,20)\n",
    "ts1, ts2, ts3 = [], [], []\n",
    "import random\n",
    "import math\n",
    "# nlogn\n",
    "for n in tqdm(ns):\n",
    "    st_t = time.time()\n",
    "\n",
    "\n",
    "    for _ in range(1000):\n",
    "        nodes = np.random.random_integers(0, 1000, n)\n",
    "        tree = Tree()\n",
    "        for node in nodes:\n",
    "            tree.add(node)\n",
    "    ts1.append(time.time() - st_t)\n",
    "# n\n",
    "for n in tqdm(ns):\n",
    "    st_t = time.time()\n",
    "\n",
    "\n",
    "    for _ in range(1000):\n",
    "\n",
    "\n",
    "        for i in range(n):\n",
    "            pass\n",
    "    ts2.append(time.time() - st_t)\n",
    "#n^2   \n",
    "# ns = [int((i/math.log(i))**2) for i in ns]\n",
    "\n",
    "\n",
    "for n in tqdm(ns):\n",
    "    st_t = time.time()\n",
    "    for _ in range(1000):\n",
    "\n",
    "\n",
    "        for i in range(n):\n",
    "            for j in range(n):\n",
    "                pass\n",
    "    ts3.append(time.time() - st_t)\n",
    "\n",
    "    \n",
    "        \n",
    "    "
   ]
  },
  {
   "cell_type": "code",
   "execution_count": 84,
   "id": "92c6743d",
   "metadata": {},
   "outputs": [
    {
     "data": {
      "image/png": "[encoded data removed]",
      "text/plain": [
       "<Figure size 432x288 with 1 Axes>"
      ]
     },
     "metadata": {
      "needs_background": "light"
     },
     "output_type": "display_data"
    }
   ],
   "source": [
    "import matplotlib.pyplot as plt\n",
    "plt.plot(ns, ts1)\n",
    "plt.plot(ns, ts2)\n",
    "plt.plot(ns, ts3)\n",
    "plt.legend(['NlogN','N','N^2'])\n",
    "plt.xlabel('N')\n",
    "plt.ylabel('Time(s)')\n",
    "plt.title('Speed comparison')\n",
    "plt.show()"
   ]
  },
  {
   "cell_type": "code",
   "execution_count": 78,
   "id": "89198c0f",
   "metadata": {},
   "outputs": [
    {
     "ename": "TypeError",
     "evalue": "unsupported operand type(s) for +: 'geom_line' and 'geom_line'",
     "output_type": "error",
     "traceback": [
      "\u001b[0;31m---------------------------------------------------------------------------\u001b[0m",
      "\u001b[0;31mTypeError\u001b[0m                                 Traceback (most recent call last)",
      "\u001b[0;32m/var/folders/rz/wj2pwbn164x144wk9djnk2840000gn/T/ipykernel_88590/2903279209.py\u001b[0m in \u001b[0;36m<module>\u001b[0;34m\u001b[0m\n\u001b[0;32m----> 1\u001b[0;31m (p9.geom_line(pd.DataFrame({'n': ns, 'time (s)': ts1}), p9.aes(x='n', y='time (s)'))\n\u001b[0m\u001b[1;32m      2\u001b[0m \u001b[0;34m+\u001b[0m \u001b[0mp9\u001b[0m\u001b[0;34m.\u001b[0m\u001b[0mgeom_line\u001b[0m\u001b[0;34m(\u001b[0m\u001b[0mpd\u001b[0m\u001b[0;34m.\u001b[0m\u001b[0mDataFrame\u001b[0m\u001b[0;34m(\u001b[0m\u001b[0;34m{\u001b[0m\u001b[0;34m'n'\u001b[0m\u001b[0;34m:\u001b[0m \u001b[0mns\u001b[0m\u001b[0;34m,\u001b[0m \u001b[0;34m'time (s)'\u001b[0m\u001b[0;34m:\u001b[0m \u001b[0mts2\u001b[0m\u001b[0;34m}\u001b[0m\u001b[0;34m)\u001b[0m\u001b[0;34m,\u001b[0m \u001b[0mp9\u001b[0m\u001b[0;34m.\u001b[0m\u001b[0maes\u001b[0m\u001b[0;34m(\u001b[0m\u001b[0mx\u001b[0m\u001b[0;34m=\u001b[0m\u001b[0;34m'n'\u001b[0m\u001b[0;34m,\u001b[0m \u001b[0my\u001b[0m\u001b[0;34m=\u001b[0m\u001b[0;34m'time (s)'\u001b[0m\u001b[0;34m)\u001b[0m\u001b[0;34m)\u001b[0m\u001b[0;34m\u001b[0m\u001b[0;34m\u001b[0m\u001b[0m\n\u001b[1;32m      3\u001b[0m  \u001b[0;34m+\u001b[0m \u001b[0mp9\u001b[0m\u001b[0;34m.\u001b[0m\u001b[0mgeom_line\u001b[0m\u001b[0;34m(\u001b[0m\u001b[0mpd\u001b[0m\u001b[0;34m.\u001b[0m\u001b[0mDataFrame\u001b[0m\u001b[0;34m(\u001b[0m\u001b[0;34m{\u001b[0m\u001b[0;34m'n'\u001b[0m\u001b[0;34m:\u001b[0m \u001b[0mns\u001b[0m\u001b[0;34m,\u001b[0m \u001b[0;34m'time (s)'\u001b[0m\u001b[0;34m:\u001b[0m \u001b[0mts3\u001b[0m\u001b[0;34m}\u001b[0m\u001b[0;34m)\u001b[0m\u001b[0;34m,\u001b[0m \u001b[0mp9\u001b[0m\u001b[0;34m.\u001b[0m\u001b[0maes\u001b[0m\u001b[0;34m(\u001b[0m\u001b[0mx\u001b[0m\u001b[0;34m=\u001b[0m\u001b[0;34m'n'\u001b[0m\u001b[0;34m,\u001b[0m \u001b[0my\u001b[0m\u001b[0;34m=\u001b[0m\u001b[0;34m'time (s)'\u001b[0m\u001b[0;34m)\u001b[0m\u001b[0;34m)\u001b[0m\u001b[0;34m\u001b[0m\u001b[0;34m\u001b[0m\u001b[0m\n\u001b[1;32m      4\u001b[0m \u001b[0;34m\u001b[0m\u001b[0m\n\u001b[1;32m      5\u001b[0m \u001b[0;34m\u001b[0m\u001b[0m\n",
      "\u001b[0;31mTypeError\u001b[0m: unsupported operand type(s) for +: 'geom_line' and 'geom_line'"
     ]
    }
   ],
   "source": [
    "(p9.geom_line(pd.DataFrame({'n': ns, 'time (s)': ts1}), p9.aes(x='n', y='time (s)'))\n",
    "+ p9.geom_line(pd.DataFrame({'n': ns, 'time (s)': ts2}), p9.aes(x='n', y='time (s)')) \n",
    " + p9.geom_line(pd.DataFrame({'n': ns, 'time (s)': ts3}), p9.aes(x='n', y='time (s)')) \n",
    "\n",
    "\n",
    "\n",
    "+ p9.geom_point()\n",
    "#   + p9.geom_line()\n",
    "+ p9.scale_y_continuous()\n",
    "+ p9.scale_x_continuous()\n",
    "\n",
    "#  +(p9.ggplot(pd.DataFrame({'n': ns, 'time (s)': ns}), p9.aes(x='n', y='time (s)'))\n",
    "# + p9.geom_point()\n",
    "# #  +p9.ggplot(pd.DataFrame({'n':ns, 'time(s)':ns}), p9.aes(x='n', y='time (s)'))\n",
    "# #  + p9.geom_point()\n",
    "\n",
    "\n",
    "#  + p9.scale_y_continuous(trans='log10')\n",
    "# + p9.scale_x_continuous(trans='log10')\n",
    "# )\n",
    ")\n"
   ]
  },
  {
   "cell_type": "code",
   "execution_count": 44,
   "id": "b9dbdb21",
   "metadata": {},
   "outputs": [
    {
     "data": {
      "image/png": "[encoded data removed]",
      "text/plain": [
       "<Figure size 640x480 with 1 Axes>"
      ]
     },
     "metadata": {},
     "output_type": "display_data"
    },
    {
     "data": {
      "text/plain": [
       "<ggplot: (278437669)>"
      ]
     },
     "execution_count": 44,
     "metadata": {},
     "output_type": "execute_result"
    }
   ],
   "source": [
    "(p9.ggplot(pd.DataFrame({'n': ns, 'time (s)': ns}), p9.aes(x='n', y='time (s)'))\n",
    "+ p9.geom_point()\n",
    "#  +p9.ggplot(pd.DataFrame({'n':ns, 'time(s)':ns}), p9.aes(x='n', y='time (s)'))\n",
    "#  + p9.geom_point()\n",
    "\n",
    "\n",
    " + p9.scale_y_continuous(trans='log10')\n",
    "+ p9.scale_x_continuous(trans='log10')\n",
    ")"
   ]
  },
  {
   "cell_type": "code",
   "execution_count": null,
   "id": "e91d2d20",
   "metadata": {},
   "outputs": [],
   "source": []
  }
 ],
 "metadata": {
  "kernelspec": {
   "display_name": "Python 3 (ipykernel)",
   "language": "python",
   "name": "python3"
  },
  "language_info": {
   "codemirror_mode": {
    "name": "ipython",
    "version": 3
   },
   "file_extension": ".py",
   "mimetype": "text/x-python",
   "name": "python",
   "nbconvert_exporter": "python",
   "pygments_lexer": "ipython3",
   "version": "3.8.10"
  },
  "toc": {
   "base_numbering": 1,
   "nav_menu": {},
   "number_sections": true,
   "sideBar": true,
   "skip_h1_title": false,
   "title_cell": "Table of Contents",
   "title_sidebar": "Contents",
   "toc_cell": false,
   "toc_position": {},
   "toc_section_display": true,
   "toc_window_display": false
  }
 },
 "nbformat": 4,
 "nbformat_minor": 5
}
