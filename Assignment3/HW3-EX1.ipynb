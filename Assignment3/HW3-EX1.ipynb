{
 "cells": [
  {
   "cell_type": "code",
   "execution_count": 1,
   "id": "5723af34",
   "metadata": {},
   "outputs": [],
   "source": [
    "import xml.etree.cElementTree as et"
   ]
  },
  {
   "cell_type": "code",
   "execution_count": 29,
   "id": "dcf4f613",
   "metadata": {},
   "outputs": [],
   "source": [
    "import requests\n",
    "import xml\n",
    "\n",
    "def search(item):\n",
    "    url = f\"https://eutils.ncbi.nlm.nih.gov/entrez/eutils/esearch.fcgi?db=pubmed&term={item}&retmode=xml&retmax=1000\"\n",
    "    r = requests.get(url)\n",
    "    doc = xml.dom.minidom.parseString(r.text)\n",
    "    id_list = []\n",
    "    ids = doc.getElementsByTagName(\"Id\")\n",
    "    for i in range(len(ids)):\n",
    "        id_list.append(ids[i].childNodes[0].data) \n",
    "    return id_list   \n",
    "\n",
    "\n",
    "ids1_ = search(\"Alzheimers+AND+2019[pdat]\")\n",
    "ids2_ = search(\"Cancer+AND+2019[pdat]\")\n"
   ]
  },
  {
   "cell_type": "code",
   "execution_count": 30,
   "id": "038c5c60",
   "metadata": {},
   "outputs": [
    {
     "data": {
      "text/plain": [
       "{'32322464', '32501203'}"
      ]
     },
     "execution_count": 30,
     "metadata": {},
     "output_type": "execute_result"
    }
   ],
   "source": [
    "set(ids1)&set(ids2)"
   ]
  },
  {
   "cell_type": "code",
   "execution_count": 2,
   "id": "9ab73951",
   "metadata": {},
   "outputs": [],
   "source": [
    "file1 = et.parse('Alzheimers.xml')"
   ]
  },
  {
   "cell_type": "code",
   "execution_count": 3,
   "id": "ecc21b37",
   "metadata": {},
   "outputs": [],
   "source": [
    "root1 = file1.getroot()"
   ]
  },
  {
   "cell_type": "code",
   "execution_count": 4,
   "id": "f9b14353",
   "metadata": {},
   "outputs": [],
   "source": [
    "ids1 = []\n",
    "for i in root1[3]:\n",
    "    ids1.append(i.text)"
   ]
  },
  {
   "cell_type": "code",
   "execution_count": 5,
   "id": "e630e25d",
   "metadata": {},
   "outputs": [],
   "source": [
    "file2 = et.parse('Cancer.xml')\n",
    "root2 = file2.getroot()\n",
    "ids2 = []\n",
    "for i in root2[3]:\n",
    "    ids2.append(i.text)\n"
   ]
  },
  {
   "cell_type": "code",
   "execution_count": 6,
   "id": "d74d5756",
   "metadata": {},
   "outputs": [
    {
     "data": {
      "text/plain": [
       "True"
      ]
     },
     "execution_count": 6,
     "metadata": {},
     "output_type": "execute_result"
    }
   ],
   "source": [
    "len(ids1)==len(ids2)"
   ]
  },
  {
   "cell_type": "code",
   "execution_count": 7,
   "id": "f90a8256",
   "metadata": {},
   "outputs": [
    {
     "data": {
      "text/plain": [
       "{'32322464', '32501203'}"
      ]
     },
     "execution_count": 7,
     "metadata": {},
     "output_type": "execute_result"
    }
   ],
   "source": [
    "set(ids1)&set(ids2)"
   ]
  },
  {
   "cell_type": "code",
   "execution_count": 8,
   "id": "d15b6e8e",
   "metadata": {},
   "outputs": [],
   "source": [
    "import requests\n",
    "import xml.dom.minidom as m\n",
    "import time\n",
    "def get_info(pmid):\n",
    "    try:\n",
    "        r = requests.get(f\"https://eutils.ncbi.nlm.nih.gov/entrez/eutils/efetch.fcgi?db=pubmed&retmode=xml&id={pmid}\" )\n",
    "        time.sleep(1)\n",
    "    except:\n",
    "        print(f'get {pmid} failed')\n",
    "        \n",
    "    doc = m.parseString(r.text)\n",
    "    abstract, mesh = '', []\n",
    "    titles = doc.getElementsByTagName(\"Title\") \n",
    "    if not titles:\n",
    "        titles = doc.getElementsByTagName('BookTitle')\n",
    "    abstracts = doc.getElementsByTagName(\"AbstractText\") \n",
    "    meshes = doc.getElementsByTagName(\"DescriptorName\") \n",
    "\n",
    "    if  not abstracts:\n",
    "        abstract = ''\n",
    "    else:\n",
    "        for abst in abstracts:     \n",
    "#             abstract.setdefault(abst.getAttribute('Label'), '')\n",
    "#             for node in abst.childNodes:\n",
    "            tree = et.fromstring(abst.toxml())\n",
    "            abstract+= et.tostring(tree, method='text').decode()\n",
    "            abstract+='\\n'\n",
    "    if not meshes:\n",
    "        mesh = meshes\n",
    "    else:\n",
    "        for mes in meshes:\n",
    "            for node in mes.childNodes:               \n",
    "                mesh.append(node.data) \n",
    "\n",
    "\n",
    "                    \n",
    "    title = titles[0].childNodes[0].wholeText\n",
    "\n",
    "\n",
    "   \n",
    "    return title, abstract, mesh"
   ]
  },
  {
   "cell_type": "code",
   "execution_count": 105,
   "id": "6ce4e64c",
   "metadata": {},
   "outputs": [],
   "source": [
    "import json\n",
    "j ={}\n",
    "for pmid in ids1+ids2:\n",
    "    j[pmid] = {}\n",
    "#     print(pmid)\n",
    "    title, abstract, mesh = get_info(pmid)\n",
    "    if pmid in ids1 and pmid in ids2:\n",
    "        \n",
    "        \n",
    "        query = 'Alzheimer&Cancer'\n",
    "    elif pmid in ids1:\n",
    "        query = 'Alzheimer'\n",
    "    else:\n",
    "        query = 'Cancer'\n",
    "    j[pmid]['ArticleTitle'], j[pmid]['AbstractText'], j[pmid]['query'], j[pmid]['mesh'] = title, abstract, query, mesh\n",
    "\n",
    "with open('articles2019_n.json', 'w', encoding='utf8') as f:\n",
    "    json.dump(j, f)\n",
    "    \n",
    "    "
   ]
  },
  {
   "cell_type": "code",
   "execution_count": 10,
   "id": "d9d6636f",
   "metadata": {},
   "outputs": [],
   "source": [
    "# j_c={}\n",
    "\n",
    "# for pmid in ids2:\n",
    "#     j_c[pmid] = {}\n",
    "#     title, abstract, mesh = get_info(pmid)\n",
    "#     query = 'Cancer'\n",
    "#     j_c[pmid]['ArticleTitle'], j_c[pmid]['AbstractText'], j_c[pmid]['query'], j_c[pmid]['mesh'] = title, abstract, query, mesh\n",
    "\n",
    "# with open('Cancer.json', 'w', encoding='utf8') as f:\n",
    "#     json.dump(j_c, f)\n",
    "    \n",
    "    "
   ]
  },
  {
   "cell_type": "code",
   "execution_count": 17,
   "id": "3663afab",
   "metadata": {},
   "outputs": [],
   "source": [
    "# j_a={}\n",
    "\n",
    "# for pmid in ids1:\n",
    "#     j_a[pmid] = {}\n",
    "#     title, abstract, mesh = get_info(pmid)\n",
    "#     query = 'Alzheimer'\n",
    "#     j_a[pmid]['ArticleTitle'], j_a[pmid]['AbstractText'], j_a[pmid]['query'], j_a[pmid]['mesh'] = title, abstract, query, mesh\n",
    "\n",
    "# with open('Cancer.json', 'w', encoding='utf8') as f:\n",
    "#     json.dump(j_c, f)"
   ]
  },
  {
   "cell_type": "code",
   "execution_count": 18,
   "id": "1a4d8369",
   "metadata": {},
   "outputs": [],
   "source": [
    "# j = {}\n",
    "# for i in j_a:\n",
    "#     j[i] = j_a[i]\n",
    "# for i in j_c:\n",
    "#     j[i] = j_c[i]\n"
   ]
  },
  {
   "cell_type": "code",
   "execution_count": 20,
   "id": "65f81266",
   "metadata": {},
   "outputs": [],
   "source": [
    "j['32322464']['query'] = 'Alzheimer&Cancer'\n",
    "j['32501203']['query']  = 'Alzheimer&Cancer'"
   ]
  },
  {
   "cell_type": "code",
   "execution_count": 21,
   "id": "6e7e273b",
   "metadata": {},
   "outputs": [],
   "source": [
    "import json\n",
    "with open('articles2019_n1.json', 'w', encoding='utf8') as f:\n",
    "    json.dump(j,f)"
   ]
  }
 ],
 "metadata": {
  "kernelspec": {
   "display_name": "Python 3 (ipykernel)",
   "language": "python",
   "name": "python3"
  },
  "language_info": {
   "codemirror_mode": {
    "name": "ipython",
    "version": 3
   },
   "file_extension": ".py",
   "mimetype": "text/x-python",
   "name": "python",
   "nbconvert_exporter": "python",
   "pygments_lexer": "ipython3",
   "version": "3.8.10"
  },
  "toc": {
   "base_numbering": 1,
   "nav_menu": {},
   "number_sections": true,
   "sideBar": true,
   "skip_h1_title": false,
   "title_cell": "Table of Contents",
   "title_sidebar": "Contents",
   "toc_cell": false,
   "toc_position": {},
   "toc_section_display": true,
   "toc_window_display": false
  }
 },
 "nbformat": 4,
 "nbformat_minor": 5
}
