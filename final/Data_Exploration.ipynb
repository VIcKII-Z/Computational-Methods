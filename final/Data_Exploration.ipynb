{
 "cells": [
  {
   "cell_type": "code",
   "execution_count": 2,
   "id": "75bb177c",
   "metadata": {},
   "outputs": [],
   "source": [
    "import pandas as pd"
   ]
  },
  {
   "cell_type": "code",
   "execution_count": 3,
   "id": "b5d776c6",
   "metadata": {},
   "outputs": [],
   "source": [
    "train_ori = pd.read_csv('ventilator-pressure-prediction/train.csv')"
   ]
  },
  {
   "cell_type": "code",
   "execution_count": 59,
   "id": "eb88f68f",
   "metadata": {},
   "outputs": [
    {
     "data": {
      "text/html": [
       "<div>\n",
       "<style scoped>\n",
       "    .dataframe tbody tr th:only-of-type {\n",
       "        vertical-align: middle;\n",
       "    }\n",
       "\n",
       "    .dataframe tbody tr th {\n",
       "        vertical-align: top;\n",
       "    }\n",
       "\n",
       "    .dataframe thead th {\n",
       "        text-align: right;\n",
       "    }\n",
       "</style>\n",
       "<table border=\"1\" class=\"dataframe\">\n",
       "  <thead>\n",
       "    <tr style=\"text-align: right;\">\n",
       "      <th></th>\n",
       "      <th>id</th>\n",
       "      <th>breath_id</th>\n",
       "      <th>R</th>\n",
       "      <th>C</th>\n",
       "      <th>time_step</th>\n",
       "      <th>u_in</th>\n",
       "      <th>u_out</th>\n",
       "      <th>pressure</th>\n",
       "    </tr>\n",
       "  </thead>\n",
       "  <tbody>\n",
       "    <tr>\n",
       "      <th>0</th>\n",
       "      <td>1</td>\n",
       "      <td>1</td>\n",
       "      <td>20</td>\n",
       "      <td>50</td>\n",
       "      <td>0.000000</td>\n",
       "      <td>0.083334</td>\n",
       "      <td>0</td>\n",
       "      <td>5.837492</td>\n",
       "    </tr>\n",
       "    <tr>\n",
       "      <th>1</th>\n",
       "      <td>2</td>\n",
       "      <td>1</td>\n",
       "      <td>20</td>\n",
       "      <td>50</td>\n",
       "      <td>0.033652</td>\n",
       "      <td>18.383041</td>\n",
       "      <td>0</td>\n",
       "      <td>5.907794</td>\n",
       "    </tr>\n",
       "    <tr>\n",
       "      <th>2</th>\n",
       "      <td>3</td>\n",
       "      <td>1</td>\n",
       "      <td>20</td>\n",
       "      <td>50</td>\n",
       "      <td>0.067514</td>\n",
       "      <td>22.509278</td>\n",
       "      <td>0</td>\n",
       "      <td>7.876254</td>\n",
       "    </tr>\n",
       "    <tr>\n",
       "      <th>3</th>\n",
       "      <td>4</td>\n",
       "      <td>1</td>\n",
       "      <td>20</td>\n",
       "      <td>50</td>\n",
       "      <td>0.101542</td>\n",
       "      <td>22.808822</td>\n",
       "      <td>0</td>\n",
       "      <td>11.742872</td>\n",
       "    </tr>\n",
       "    <tr>\n",
       "      <th>4</th>\n",
       "      <td>5</td>\n",
       "      <td>1</td>\n",
       "      <td>20</td>\n",
       "      <td>50</td>\n",
       "      <td>0.135756</td>\n",
       "      <td>25.355850</td>\n",
       "      <td>0</td>\n",
       "      <td>12.234987</td>\n",
       "    </tr>\n",
       "  </tbody>\n",
       "</table>\n",
       "</div>"
      ],
      "text/plain": [
       "   id  breath_id   R   C  time_step       u_in  u_out   pressure\n",
       "0   1          1  20  50   0.000000   0.083334      0   5.837492\n",
       "1   2          1  20  50   0.033652  18.383041      0   5.907794\n",
       "2   3          1  20  50   0.067514  22.509278      0   7.876254\n",
       "3   4          1  20  50   0.101542  22.808822      0  11.742872\n",
       "4   5          1  20  50   0.135756  25.355850      0  12.234987"
      ]
     },
     "execution_count": 59,
     "metadata": {},
     "output_type": "execute_result"
    }
   ],
   "source": [
    "train_ori.head()"
   ]
  },
  {
   "cell_type": "code",
   "execution_count": 12,
   "id": "161053d2",
   "metadata": {},
   "outputs": [
    {
     "data": {
      "image/png": "[encoded data removed]",
      "text/plain": [
       "<Figure size 432x288 with 1 Axes>"
      ]
     },
     "metadata": {
      "needs_background": "light"
     },
     "output_type": "display_data"
    }
   ],
   "source": [
    "import matplotlib.pyplot as plt\n",
    "import math\n",
    "plt.hist(train_ori['pressure'], bins = 100)\n",
    "plt.xlabel('pressure')\n",
    "plt.show()"
   ]
  },
  {
   "cell_type": "code",
   "execution_count": 13,
   "id": "5c8f9230",
   "metadata": {},
   "outputs": [
    {
     "data": {
      "image/png": "[encoded data removed]",
      "text/plain": [
       "<Figure size 432x288 with 1 Axes>"
      ]
     },
     "metadata": {
      "needs_background": "light"
     },
     "output_type": "display_data"
    }
   ],
   "source": [
    "plt.hist(train_ori['pressure'].map(lambda x:math.log(x+2)), bins = 100)\n",
    "plt.xlabel('Log_pressure')\n",
    "plt.show()"
   ]
  },
  {
   "cell_type": "code",
   "execution_count": 37,
   "id": "3bb95052",
   "metadata": {},
   "outputs": [
    {
     "data": {
      "text/plain": [
       "array([     1,      2,      3, ..., 125743, 125745, 125749])"
      ]
     },
     "execution_count": 37,
     "metadata": {},
     "output_type": "execute_result"
    }
   ],
   "source": [
    "train_ori.breath_id.unique()"
   ]
  },
  {
   "cell_type": "code",
   "execution_count": 38,
   "id": "840573c7",
   "metadata": {},
   "outputs": [],
   "source": [
    "sampe_size = 125749"
   ]
  },
  {
   "cell_type": "code",
   "execution_count": 40,
   "id": "b5847e09",
   "metadata": {},
   "outputs": [
    {
     "data": {
      "text/plain": [
       "0      5.837492\n",
       "1      5.907794\n",
       "2      7.876254\n",
       "3     11.742872\n",
       "4     12.234987\n",
       "        ...    \n",
       "75     6.399909\n",
       "76     6.610815\n",
       "77     6.329607\n",
       "78     6.540513\n",
       "79     6.470211\n",
       "Name: pressure, Length: 80, dtype: float64"
      ]
     },
     "execution_count": 40,
     "metadata": {},
     "output_type": "execute_result"
    }
   ],
   "source": [
    "train_ori[train_ori['breath_id'] == 1]['pressure']"
   ]
  },
  {
   "cell_type": "code",
   "execution_count": 58,
   "id": "39723b18",
   "metadata": {},
   "outputs": [
    {
     "data": {
      "text/plain": [
       "Text(0.5, 0, 'a')"
      ]
     },
     "execution_count": 58,
     "metadata": {},
     "output_type": "execute_result"
    },
    {
     "data": {
      "image/png": "[encoded data removed]",
      "text/plain": [
       "<Figure size 432x288 with 1 Axes>"
      ]
     },
     "metadata": {
      "needs_background": "light"
     },
     "output_type": "display_data"
    }
   ],
   "source": [
    "plt.scatter(train_ori[train_ori['breath_id'] == 3]['time_step'], train_ori[train_ori['breath_id'] == 3]['u_in'],s =5)\n",
    "plt.xlabel('a')\n",
    "# plt.scatter(train_ori[train_ori['breath_id'] == 4]['time_step'], train_ori[train_ori['breath_id'] == 67]['u_in'])"
   ]
  },
  {
   "cell_type": "code",
   "execution_count": 43,
   "id": "6a9bc006",
   "metadata": {},
   "outputs": [
    {
     "data": {
      "text/plain": [
       "<matplotlib.collections.PathCollection at 0x19c3b6250>"
      ]
     },
     "execution_count": 43,
     "metadata": {},
     "output_type": "execute_result"
    },
    {
     "data": {
      "image/png": "[encoded data removed]",
      "text/plain": [
       "<Figure size 432x288 with 1 Axes>"
      ]
     },
     "metadata": {
      "needs_background": "light"
     },
     "output_type": "display_data"
    }
   ],
   "source": [
    "plt.scatter(range(80), train_ori[train_ori['breath_id'] == 1]['pressure'])\n",
    "plt.scatter(range(80), train_ori[train_ori['breath_id'] == 2]['pressure'])"
   ]
  },
  {
   "cell_type": "code",
   "execution_count": 119,
   "id": "318d89da",
   "metadata": {
    "scrolled": true
   },
   "outputs": [
    {
     "data": {
      "text/plain": [
       "breath_id\n",
       "1         80\n",
       "2         80\n",
       "3         80\n",
       "4         80\n",
       "5         80\n",
       "          ..\n",
       "125740    80\n",
       "125742    80\n",
       "125743    80\n",
       "125745    80\n",
       "125749    80\n",
       "Name: id, Length: 75450, dtype: int64"
      ]
     },
     "execution_count": 119,
     "metadata": {},
     "output_type": "execute_result"
    }
   ],
   "source": [
    "train.groupby('breath_id')['id'].count()"
   ]
  },
  {
   "cell_type": "code",
   "execution_count": 29,
   "id": "bd7623af",
   "metadata": {},
   "outputs": [
    {
     "data": {
      "text/plain": [
       "(array([20, 50,  5]), array([50, 20, 10]))"
      ]
     },
     "execution_count": 29,
     "metadata": {},
     "output_type": "execute_result"
    }
   ],
   "source": [
    "train_ori['R'].unique(), train_ori['C'].unique() "
   ]
  },
  {
   "cell_type": "code",
   "execution_count": 93,
   "id": "c4fa4e05",
   "metadata": {},
   "outputs": [
    {
     "data": {
      "text/plain": [
       "array([400])"
      ]
     },
     "execution_count": 93,
     "metadata": {},
     "output_type": "execute_result"
    }
   ],
   "source": [
    "train[(train['breath_id']==9)]['RC'].unique()# & (train['RC']==200)]"
   ]
  },
  {
   "cell_type": "code",
   "execution_count": 107,
   "id": "7a7ce642",
   "metadata": {},
   "outputs": [],
   "source": [
    "pt = pd.pivot_table(train, index=['breath_id','RC','u_in','u_out'], values=['pressure'])"
   ]
  },
  {
   "cell_type": "code",
   "execution_count": 108,
   "id": "88304eb9",
   "metadata": {},
   "outputs": [
    {
     "data": {
      "text/html": [
       "<div>\n",
       "<style scoped>\n",
       "    .dataframe tbody tr th:only-of-type {\n",
       "        vertical-align: middle;\n",
       "    }\n",
       "\n",
       "    .dataframe tbody tr th {\n",
       "        vertical-align: top;\n",
       "    }\n",
       "\n",
       "    .dataframe thead th {\n",
       "        text-align: right;\n",
       "    }\n",
       "</style>\n",
       "<table border=\"1\" class=\"dataframe\">\n",
       "  <thead>\n",
       "    <tr style=\"text-align: right;\">\n",
       "      <th></th>\n",
       "      <th></th>\n",
       "      <th></th>\n",
       "      <th></th>\n",
       "      <th>pressure</th>\n",
       "    </tr>\n",
       "    <tr>\n",
       "      <th>breath_id</th>\n",
       "      <th>RC</th>\n",
       "      <th>u_in</th>\n",
       "      <th>u_out</th>\n",
       "      <th></th>\n",
       "    </tr>\n",
       "  </thead>\n",
       "  <tbody>\n",
       "    <tr>\n",
       "      <th rowspan=\"5\" valign=\"top\">1</th>\n",
       "      <th rowspan=\"5\" valign=\"top\">1000</th>\n",
       "      <th>0.000000</th>\n",
       "      <th>1</th>\n",
       "      <td>9.240116</td>\n",
       "    </tr>\n",
       "    <tr>\n",
       "      <th>0.083334</th>\n",
       "      <th>0</th>\n",
       "      <td>5.837492</td>\n",
       "    </tr>\n",
       "    <tr>\n",
       "      <th>0.779225</th>\n",
       "      <th>1</th>\n",
       "      <td>7.524743</td>\n",
       "    </tr>\n",
       "    <tr>\n",
       "      <th>1.439041</th>\n",
       "      <th>1</th>\n",
       "      <td>6.962326</td>\n",
       "    </tr>\n",
       "    <tr>\n",
       "      <th>1.994220</th>\n",
       "      <th>1</th>\n",
       "      <td>7.454441</td>\n",
       "    </tr>\n",
       "    <tr>\n",
       "      <th>...</th>\n",
       "      <th>...</th>\n",
       "      <th>...</th>\n",
       "      <th>...</th>\n",
       "      <td>...</td>\n",
       "    </tr>\n",
       "    <tr>\n",
       "      <th rowspan=\"5\" valign=\"top\">125749</th>\n",
       "      <th rowspan=\"5\" valign=\"top\">500</th>\n",
       "      <th>14.700098</th>\n",
       "      <th>0</th>\n",
       "      <td>17.015533</td>\n",
       "    </tr>\n",
       "    <tr>\n",
       "      <th>16.101221</th>\n",
       "      <th>0</th>\n",
       "      <td>15.468886</td>\n",
       "    </tr>\n",
       "    <tr>\n",
       "      <th>16.266744</th>\n",
       "      <th>0</th>\n",
       "      <td>15.117375</td>\n",
       "    </tr>\n",
       "    <tr>\n",
       "      <th>21.614707</th>\n",
       "      <th>0</th>\n",
       "      <td>9.563505</td>\n",
       "    </tr>\n",
       "    <tr>\n",
       "      <th>25.504196</th>\n",
       "      <th>0</th>\n",
       "      <td>5.345377</td>\n",
       "    </tr>\n",
       "  </tbody>\n",
       "</table>\n",
       "<p>4696014 rows × 1 columns</p>\n",
       "</div>"
      ],
      "text/plain": [
       "                                 pressure\n",
       "breath_id RC   u_in      u_out           \n",
       "1         1000 0.000000  1       9.240116\n",
       "               0.083334  0       5.837492\n",
       "               0.779225  1       7.524743\n",
       "               1.439041  1       6.962326\n",
       "               1.994220  1       7.454441\n",
       "...                                   ...\n",
       "125749    500  14.700098 0      17.015533\n",
       "               16.101221 0      15.468886\n",
       "               16.266744 0      15.117375\n",
       "               21.614707 0       9.563505\n",
       "               25.504196 0       5.345377\n",
       "\n",
       "[4696014 rows x 1 columns]"
      ]
     },
     "execution_count": 108,
     "metadata": {},
     "output_type": "execute_result"
    }
   ],
   "source": [
    "pt"
   ]
  },
  {
   "cell_type": "code",
   "execution_count": 110,
   "id": "94e21bfb",
   "metadata": {},
   "outputs": [],
   "source": [
    "# pt1 = pd.pivot_table(train, index=['breath_id'], values=['pressure'])"
   ]
  },
  {
   "cell_type": "code",
   "execution_count": 164,
   "id": "f5cef6af",
   "metadata": {},
   "outputs": [
    {
     "data": {
      "text/plain": [
       "True"
      ]
     },
     "execution_count": 164,
     "metadata": {},
     "output_type": "execute_result"
    }
   ],
   "source": [
    "len(train['id'].unique())==len(train)"
   ]
  },
  {
   "cell_type": "code",
   "execution_count": 165,
   "id": "717b429c",
   "metadata": {},
   "outputs": [],
   "source": [
    "# train[train['breath_id']==1]"
   ]
  },
  {
   "cell_type": "code",
   "execution_count": 55,
   "id": "6e9febbf",
   "metadata": {},
   "outputs": [
    {
     "data": {
      "text/html": [
       "<div>\n",
       "<style scoped>\n",
       "    .dataframe tbody tr th:only-of-type {\n",
       "        vertical-align: middle;\n",
       "    }\n",
       "\n",
       "    .dataframe tbody tr th {\n",
       "        vertical-align: top;\n",
       "    }\n",
       "\n",
       "    .dataframe thead th {\n",
       "        text-align: right;\n",
       "    }\n",
       "</style>\n",
       "<table border=\"1\" class=\"dataframe\">\n",
       "  <thead>\n",
       "    <tr style=\"text-align: right;\">\n",
       "      <th></th>\n",
       "      <th>R</th>\n",
       "      <th>C</th>\n",
       "      <th>u_in</th>\n",
       "      <th>pressure</th>\n",
       "    </tr>\n",
       "  </thead>\n",
       "  <tbody>\n",
       "    <tr>\n",
       "      <th>count</th>\n",
       "      <td>6.036000e+06</td>\n",
       "      <td>6.036000e+06</td>\n",
       "      <td>6.036000e+06</td>\n",
       "      <td>6.036000e+06</td>\n",
       "    </tr>\n",
       "    <tr>\n",
       "      <th>mean</th>\n",
       "      <td>2.703618e+01</td>\n",
       "      <td>2.608072e+01</td>\n",
       "      <td>7.321615e+00</td>\n",
       "      <td>1.122041e+01</td>\n",
       "    </tr>\n",
       "    <tr>\n",
       "      <th>std</th>\n",
       "      <td>1.959549e+01</td>\n",
       "      <td>1.715231e+01</td>\n",
       "      <td>1.343470e+01</td>\n",
       "      <td>8.109703e+00</td>\n",
       "    </tr>\n",
       "    <tr>\n",
       "      <th>min</th>\n",
       "      <td>5.000000e+00</td>\n",
       "      <td>1.000000e+01</td>\n",
       "      <td>0.000000e+00</td>\n",
       "      <td>-1.895744e+00</td>\n",
       "    </tr>\n",
       "    <tr>\n",
       "      <th>25%</th>\n",
       "      <td>5.000000e+00</td>\n",
       "      <td>1.000000e+01</td>\n",
       "      <td>3.936623e-01</td>\n",
       "      <td>6.329607e+00</td>\n",
       "    </tr>\n",
       "    <tr>\n",
       "      <th>50%</th>\n",
       "      <td>2.000000e+01</td>\n",
       "      <td>2.000000e+01</td>\n",
       "      <td>4.386146e+00</td>\n",
       "      <td>7.032628e+00</td>\n",
       "    </tr>\n",
       "    <tr>\n",
       "      <th>75%</th>\n",
       "      <td>5.000000e+01</td>\n",
       "      <td>5.000000e+01</td>\n",
       "      <td>4.983895e+00</td>\n",
       "      <td>1.364103e+01</td>\n",
       "    </tr>\n",
       "    <tr>\n",
       "      <th>max</th>\n",
       "      <td>5.000000e+01</td>\n",
       "      <td>5.000000e+01</td>\n",
       "      <td>1.000000e+02</td>\n",
       "      <td>6.482099e+01</td>\n",
       "    </tr>\n",
       "  </tbody>\n",
       "</table>\n",
       "</div>"
      ],
      "text/plain": [
       "                  R             C          u_in      pressure\n",
       "count  6.036000e+06  6.036000e+06  6.036000e+06  6.036000e+06\n",
       "mean   2.703618e+01  2.608072e+01  7.321615e+00  1.122041e+01\n",
       "std    1.959549e+01  1.715231e+01  1.343470e+01  8.109703e+00\n",
       "min    5.000000e+00  1.000000e+01  0.000000e+00 -1.895744e+00\n",
       "25%    5.000000e+00  1.000000e+01  3.936623e-01  6.329607e+00\n",
       "50%    2.000000e+01  2.000000e+01  4.386146e+00  7.032628e+00\n",
       "75%    5.000000e+01  5.000000e+01  4.983895e+00  1.364103e+01\n",
       "max    5.000000e+01  5.000000e+01  1.000000e+02  6.482099e+01"
      ]
     },
     "execution_count": 55,
     "metadata": {},
     "output_type": "execute_result"
    }
   ],
   "source": [
    "train[['R','C','u_in','pressure']].describe()"
   ]
  },
  {
   "cell_type": "code",
   "execution_count": 18,
   "id": "2bcefe5b",
   "metadata": {},
   "outputs": [
    {
     "data": {
      "text/plain": [
       "1    3745032\n",
       "0    2290968\n",
       "Name: u_out, dtype: int64"
      ]
     },
     "execution_count": 18,
     "metadata": {},
     "output_type": "execute_result"
    }
   ],
   "source": [
    "train['u_out'].value_counts()"
   ]
  },
  {
   "cell_type": "code",
   "execution_count": 138,
   "id": "dded3728",
   "metadata": {
    "scrolled": false
   },
   "outputs": [
    {
     "data": {
      "image/png": "[encoded data removed]",
      "text/plain": [
       "<Figure size 432x288 with 1 Axes>"
      ]
     },
     "metadata": {
      "needs_background": "light"
     },
     "output_type": "display_data"
    }
   ],
   "source": [
    "plt.violinplot(train['pressure'])\n",
    "plt.ylabel('pressure')\n",
    "plt.title('Distribution of pressure')\n",
    "plt.show()"
   ]
  },
  {
   "cell_type": "code",
   "execution_count": 140,
   "id": "38a449e7",
   "metadata": {},
   "outputs": [
    {
     "data": {
      "image/png": "[encoded data removed]",
      "text/plain": [
       "<Figure size 432x288 with 1 Axes>"
      ]
     },
     "metadata": {
      "needs_background": "light"
     },
     "output_type": "display_data"
    }
   ],
   "source": [
    "plt.hist(train['u_in'],bins=20)\n",
    "plt.title('Distribution of u_in')\n",
    "plt.xlabel('u_in')\n",
    "plt.show()\n",
    "\n"
   ]
  },
  {
   "cell_type": "code",
   "execution_count": 14,
   "id": "adeda98a",
   "metadata": {
    "scrolled": true
   },
   "outputs": [
    {
     "data": {
      "image/png": "[encoded data removed]",
      "text/plain": [
       "<Figure size 432x288 with 2 Axes>"
      ]
     },
     "metadata": {
      "needs_background": "light"
     },
     "output_type": "display_data"
    }
   ],
   "source": [
    "import seaborn as sns\n",
    "\n",
    "sns.heatmap(train_ori[train_ori['breath_id']==1][['u_in','u_out','pressure']].corr(), annot=True)\n",
    "plt.title('Correlation map')\n",
    "plt.show()"
   ]
  },
  {
   "cell_type": "code",
   "execution_count": 166,
   "id": "c8da1656",
   "metadata": {},
   "outputs": [],
   "source": [
    "# plt.scatter(train[train['breath_id']==100]['u_in'], train[train['breath_id']==100]['u_out'], c=train[train['breath_id']==100]['pressure'], cmap='jet')"
   ]
  },
  {
   "cell_type": "code",
   "execution_count": 167,
   "id": "66ed15de",
   "metadata": {},
   "outputs": [],
   "source": [
    "# train[train['breath_id']==1][train[train['breath_id']==1]['u_in']<0.01]"
   ]
  },
  {
   "cell_type": "code",
   "execution_count": 168,
   "id": "ba77b42f",
   "metadata": {},
   "outputs": [],
   "source": [
    "# plt.scatter(train[train['breath_id']==10000]['u_in'], train[train['breath_id']==10000]['pressure'], c=train[train['breath_id']==10000]['u_out'], cmap='jet')"
   ]
  },
  {
   "cell_type": "code",
   "execution_count": 120,
   "id": "435796f8",
   "metadata": {
    "scrolled": true
   },
   "outputs": [
    {
     "data": {
      "image/png": "[encoded data removed]",
      "text/plain": [
       "<Figure size 432x288 with 2 Axes>"
      ]
     },
     "metadata": {
      "needs_background": "light"
     },
     "output_type": "display_data"
    }
   ],
   "source": [
    "import seaborn as sns\n",
    "sns.heatmap(train[['breath_id','u_in','u_out', 'R','C', 'pressure']].corr(), annot=True)\n",
    "plt.title('Correlation map')\n",
    "plt.show()"
   ]
  },
  {
   "cell_type": "code",
   "execution_count": 144,
   "id": "b0b6fae8",
   "metadata": {},
   "outputs": [
    {
     "name": "stdout",
     "output_type": "stream",
     "text": [
      "id           0\n",
      "breath_id    0\n",
      "R            0\n",
      "C            0\n",
      "time_step    0\n",
      "u_in         0\n",
      "u_out        0\n",
      "pressure     0\n",
      "dtype: int64\n"
     ]
    }
   ],
   "source": [
    "df = pd.read_csv(\"ventilator-pressure-prediction/train.csv\", na_values = ['--', 'N/A', 'na'])\n",
    "print(df.isnull().sum())\n"
   ]
  }
 ],
 "metadata": {
  "kernelspec": {
   "display_name": "Python 3 (ipykernel)",
   "language": "python",
   "name": "python3"
  },
  "language_info": {
   "codemirror_mode": {
    "name": "ipython",
    "version": 3
   },
   "file_extension": ".py",
   "mimetype": "text/x-python",
   "name": "python",
   "nbconvert_exporter": "python",
   "pygments_lexer": "ipython3",
   "version": "3.8.10"
  },
  "toc": {
   "base_numbering": 1,
   "nav_menu": {},
   "number_sections": true,
   "sideBar": true,
   "skip_h1_title": false,
   "title_cell": "Table of Contents",
   "title_sidebar": "Contents",
   "toc_cell": false,
   "toc_position": {},
   "toc_section_display": true,
   "toc_window_display": false
  }
 },
 "nbformat": 4,
 "nbformat_minor": 5
}
